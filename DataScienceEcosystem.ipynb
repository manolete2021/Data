{
 "cells": [
  {
   "cell_type": "markdown",
   "id": "f7773c05-5fef-4a4b-bd7f-3164166b485c",
   "metadata": {},
   "source": [
    "Data Science Tools and Ecosystem"
   ]
  },
  {
   "cell_type": "markdown",
   "id": "9bd20cea-6404-4ccf-a70b-a20a2f7b0c61",
   "metadata": {},
   "source": [
    "In this notebook, Data Science Tools and Ecosystem are summarized."
   ]
  },
  {
   "cell_type": "markdown",
   "id": "a9dc7193-d4d5-42b0-b2d9-b31c1b745598",
   "metadata": {},
   "source": [
    "Some of the popular languages that Data Scientists use are:\n",
    "Python\n",
    "R\n",
    "SQL"
   ]
  },
  {
   "cell_type": "markdown",
   "id": "8b88cc84-a240-4296-aafe-2fc38886f275",
   "metadata": {},
   "source": [
    "Some of the commonly used libraries used by Data Scientists include:\n",
    "Pandas\n",
    "NumPy\n",
    "Scikit-learn"
   ]
  },
  {
   "cell_type": "markdown",
   "id": "cfc1822e-ef37-4533-99fd-4566491d24f7",
   "metadata": {},
   "source": [
    "Data Science Tools\n",
    "Tool\tType\n",
    "Jupyter\tNotebook Interface\n",
    "RStudio\tIDE\n",
    "Apache Spark\tBig Data Tool"
   ]
  },
  {
   "cell_type": "markdown",
   "id": "a9f0ea68-f068-41ff-8941-9370a3b1cabc",
   "metadata": {},
   "source": [
    "Below are a few examples of evaluating arithmetic expressions in Python."
   ]
  },
  {
   "cell_type": "code",
   "execution_count": null,
   "id": "7efa13a3-d5f2-4f1d-a154-df362deaedc8",
   "metadata": {},
   "outputs": [],
   "source": [
    "# This a simple arithmetic expression to multiply then add integers\n",
    "(3*4)+5\n"
   ]
  },
  {
   "cell_type": "code",
   "execution_count": null,
   "id": "0b56e665-fb7e-4f9c-8089-8cb55a501137",
   "metadata": {},
   "outputs": [],
   "source": [
    "# This will convert 200 minutes to hours by dividing by 60\n",
    "200 / 60"
   ]
  },
  {
   "cell_type": "markdown",
   "id": "ff208092-ec77-4e7d-b2c1-53a4413853d0",
   "metadata": {},
   "source": [
    "Objectives:\n",
    "List popular languages for Data Science\n",
    "List commonly used libraries\n",
    "Evaluate arithmetic expressions\n",
    "Create and share a Jupyter Notebook"
   ]
  },
  {
   "cell_type": "markdown",
   "id": "8fad1fcd-67cf-4b7f-abe0-0443bcc9dd15",
   "metadata": {},
   "source": [
    "Author\n",
    "Manuel Upegui"
   ]
  }
 ],
 "metadata": {
  "kernelspec": {
   "display_name": "Python [conda env:base] *",
   "language": "python",
   "name": "conda-base-py"
  },
  "language_info": {
   "codemirror_mode": {
    "name": "ipython",
    "version": 3
   },
   "file_extension": ".py",
   "mimetype": "text/x-python",
   "name": "python",
   "nbconvert_exporter": "python",
   "pygments_lexer": "ipython3",
   "version": "3.12.3"
  }
 },
 "nbformat": 4,
 "nbformat_minor": 5
}
